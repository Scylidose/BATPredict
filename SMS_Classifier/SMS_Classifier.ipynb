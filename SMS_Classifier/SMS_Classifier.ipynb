{
 "cells": [
  {
   "cell_type": "code",
   "execution_count": 28,
   "metadata": {
    "_cell_guid": "b1076dfc-b9ad-4769-8c92-a6c4dae69d19",
    "_uuid": "8f2839f25d086af736a60e9eeb907d3b93b6e0e5"
   },
   "outputs": [],
   "source": [
    "import pandas as pd\n",
    "import numpy as np\n",
    "import matplotlib.pyplot as plt\n",
    "\n",
    "import re\n",
    "\n",
    "import nltk\n",
    "from nltk.corpus import stopwords\n",
    "from nltk.stem.porter import PorterStemmer\n",
    "\n",
    "from sklearn.model_selection import GridSearchCV\n",
    "from sklearn.naive_bayes import MultinomialNB\n",
    "from sklearn.metrics import classification_report\n",
    "\n",
    "import warnings\n",
    "warnings.filterwarnings(\"ignore\", category=FutureWarning)\n",
    "\n",
    "# nltk.download('stopwords')"
   ]
  },
  {
   "cell_type": "code",
   "execution_count": 6,
   "metadata": {
    "_cell_guid": "79c7e3d0-c299-4dcb-8224-4455121ee9b0",
    "_uuid": "d629ff2d2480ee46fbb7e2d37f6b5fab8052498a"
   },
   "outputs": [
    {
     "name": "stdout",
     "output_type": "stream",
     "text": [
      "Downloading data from https://raw.githubusercontent.com/beaucarnes/fcc_python_curriculum/master/sms/train-data.tsv\n",
      "360448/358233 [==============================] - 0s 0us/step\n",
      "Downloading data from https://raw.githubusercontent.com/beaucarnes/fcc_python_curriculum/master/sms/valid-data.tsv\n",
      "122880/118774 [===============================] - 0s 1us/step\n"
     ]
    }
   ],
   "source": [
    "# get data files\n",
    "TRAIN_DATA_URL = \"https://raw.githubusercontent.com/beaucarnes/fcc_python_curriculum/master/sms/train-data.tsv\"\n",
    "TEST_DATA_URL = \"https://raw.githubusercontent.com/beaucarnes/fcc_python_curriculum/master/sms/valid-data.tsv\"\n",
    "\n",
    "train_file_path = tf.keras.utils.get_file(\"train-data.tsv\", TRAIN_DATA_URL)\n",
    "test_file_path = tf.keras.utils.get_file(\"valid-data.tsv\", TEST_DATA_URL)\n"
   ]
  },
  {
   "cell_type": "code",
   "execution_count": 7,
   "metadata": {},
   "outputs": [],
   "source": [
    "train_data = pd.read_csv(train_file_path,sep=\"\\t\")\n",
    "test_data = pd.read_csv(test_file_path,sep=\"\\t\")"
   ]
  },
  {
   "cell_type": "code",
   "execution_count": 8,
   "metadata": {},
   "outputs": [
    {
     "data": {
      "text/html": [
       "<div>\n",
       "<style scoped>\n",
       "    .dataframe tbody tr th:only-of-type {\n",
       "        vertical-align: middle;\n",
       "    }\n",
       "\n",
       "    .dataframe tbody tr th {\n",
       "        vertical-align: top;\n",
       "    }\n",
       "\n",
       "    .dataframe thead th {\n",
       "        text-align: right;\n",
       "    }\n",
       "</style>\n",
       "<table border=\"1\" class=\"dataframe\">\n",
       "  <thead>\n",
       "    <tr style=\"text-align: right;\">\n",
       "      <th></th>\n",
       "      <th>ham</th>\n",
       "      <th>ahhhh...just woken up!had a bad dream about u tho,so i dont like u right now :) i didnt know anything about comedy night but i guess im up for it.</th>\n",
       "    </tr>\n",
       "  </thead>\n",
       "  <tbody>\n",
       "    <tr>\n",
       "      <th>0</th>\n",
       "      <td>ham</td>\n",
       "      <td>you can never do nothing</td>\n",
       "    </tr>\n",
       "    <tr>\n",
       "      <th>1</th>\n",
       "      <td>ham</td>\n",
       "      <td>now u sound like manky scouse boy steve,like! ...</td>\n",
       "    </tr>\n",
       "    <tr>\n",
       "      <th>2</th>\n",
       "      <td>ham</td>\n",
       "      <td>mum say we wan to go then go... then she can s...</td>\n",
       "    </tr>\n",
       "    <tr>\n",
       "      <th>3</th>\n",
       "      <td>ham</td>\n",
       "      <td>never y lei... i v lazy... got wat? dat day ü ...</td>\n",
       "    </tr>\n",
       "    <tr>\n",
       "      <th>4</th>\n",
       "      <td>ham</td>\n",
       "      <td>in xam hall boy asked girl tell me the startin...</td>\n",
       "    </tr>\n",
       "  </tbody>\n",
       "</table>\n",
       "</div>"
      ],
      "text/plain": [
       "   ham  \\\n",
       "0  ham   \n",
       "1  ham   \n",
       "2  ham   \n",
       "3  ham   \n",
       "4  ham   \n",
       "\n",
       "  ahhhh...just woken up!had a bad dream about u tho,so i dont like u right now :) i didnt know anything about comedy night but i guess im up for it.  \n",
       "0                           you can never do nothing                                                                                                  \n",
       "1  now u sound like manky scouse boy steve,like! ...                                                                                                  \n",
       "2  mum say we wan to go then go... then she can s...                                                                                                  \n",
       "3  never y lei... i v lazy... got wat? dat day ü ...                                                                                                  \n",
       "4  in xam hall boy asked girl tell me the startin...                                                                                                  "
      ]
     },
     "execution_count": 8,
     "metadata": {},
     "output_type": "execute_result"
    }
   ],
   "source": [
    "train_data.head()"
   ]
  },
  {
   "cell_type": "code",
   "execution_count": 9,
   "metadata": {},
   "outputs": [
    {
     "data": {
      "text/html": [
       "<div>\n",
       "<style scoped>\n",
       "    .dataframe tbody tr th:only-of-type {\n",
       "        vertical-align: middle;\n",
       "    }\n",
       "\n",
       "    .dataframe tbody tr th {\n",
       "        vertical-align: top;\n",
       "    }\n",
       "\n",
       "    .dataframe thead th {\n",
       "        text-align: right;\n",
       "    }\n",
       "</style>\n",
       "<table border=\"1\" class=\"dataframe\">\n",
       "  <thead>\n",
       "    <tr style=\"text-align: right;\">\n",
       "      <th></th>\n",
       "      <th>ham</th>\n",
       "      <th>i am in hospital da. . i will return home in evening</th>\n",
       "    </tr>\n",
       "  </thead>\n",
       "  <tbody>\n",
       "    <tr>\n",
       "      <th>0</th>\n",
       "      <td>ham</td>\n",
       "      <td>not much, just some textin'. how bout you?</td>\n",
       "    </tr>\n",
       "    <tr>\n",
       "      <th>1</th>\n",
       "      <td>ham</td>\n",
       "      <td>i probably won't eat at all today. i think i'm...</td>\n",
       "    </tr>\n",
       "    <tr>\n",
       "      <th>2</th>\n",
       "      <td>ham</td>\n",
       "      <td>don‘t give a flying monkeys wot they think and...</td>\n",
       "    </tr>\n",
       "    <tr>\n",
       "      <th>3</th>\n",
       "      <td>ham</td>\n",
       "      <td>who are you seeing?</td>\n",
       "    </tr>\n",
       "    <tr>\n",
       "      <th>4</th>\n",
       "      <td>ham</td>\n",
       "      <td>your opinion about me? 1. over 2. jada 3. kusr...</td>\n",
       "    </tr>\n",
       "  </tbody>\n",
       "</table>\n",
       "</div>"
      ],
      "text/plain": [
       "   ham i am in hospital da. . i will return home in evening\n",
       "0  ham         not much, just some textin'. how bout you?  \n",
       "1  ham  i probably won't eat at all today. i think i'm...  \n",
       "2  ham  don‘t give a flying monkeys wot they think and...  \n",
       "3  ham                                who are you seeing?  \n",
       "4  ham  your opinion about me? 1. over 2. jada 3. kusr...  "
      ]
     },
     "execution_count": 9,
     "metadata": {},
     "output_type": "execute_result"
    }
   ],
   "source": [
    "test_data.head()"
   ]
  },
  {
   "cell_type": "code",
   "execution_count": 10,
   "metadata": {},
   "outputs": [
    {
     "name": "stdout",
     "output_type": "stream",
     "text": [
      "not much, just some textin'. how bout you?\n",
      "['much', ',', 'textin', \"'\", '.', 'bout', '?']\n"
     ]
    }
   ],
   "source": [
    "def process_message(text):\n",
    "    \n",
    "    #text = text.to_list()\n",
    "\n",
    "    processed = [w.lower() for w in nltk.word_tokenize(text) if w not in set(stopwords.words('english'))]\n",
    "    \n",
    "    return processed\n",
    "\n",
    "print(test_data.iloc[0,1])\n",
    "print(process_message(test_data.iloc[0,1]))\n"
   ]
  },
  {
   "cell_type": "code",
   "execution_count": 11,
   "metadata": {},
   "outputs": [
    {
     "name": "stdout",
     "output_type": "stream",
     "text": [
      "[('.', 2855), (',', 1156), ('?', 1006), ('...', 988), ('u', 715), ('!', 610), (';', 590), ('&', 569), (':', 410), (\"'s\", 324)]\n"
     ]
    }
   ],
   "source": [
    "\n",
    "ham_train = train_data.loc[train_data.iloc[:,0] == 'ham']\n",
    "\n",
    "ham_proc_train = ham_train.iloc[:,1].apply(process_message)\n",
    "\n",
    "vocabulary_ham = [inner for outer in ham_proc_train.to_list() for inner in outer]\n",
    "\n",
    "freq = nltk.FreqDist(vocabulary_ham)\n",
    "print(freq.most_common(10))"
   ]
  },
  {
   "cell_type": "code",
   "execution_count": 12,
   "metadata": {},
   "outputs": [
    {
     "name": "stdout",
     "output_type": "stream",
     "text": [
      "[('.', 661), ('!', 413), (',', 292), ('call', 252), ('free', 167), ('&', 137), ('?', 137), (':', 134), ('2', 128), ('txt', 121)]\n"
     ]
    }
   ],
   "source": [
    "\n",
    "spam_train = train_data.loc[train_data.iloc[:,0] == 'spam']\n",
    "\n",
    "spam_proc_train = spam_train.iloc[:,1].apply(process_message)\n",
    "\n",
    "vocabulary_spam = [inner for outer in spam_proc_train.to_list() for inner in outer]\n",
    "\n",
    "freq = nltk.FreqDist(vocabulary_spam)\n",
    "print(freq.most_common(10))"
   ]
  },
  {
   "cell_type": "code",
   "execution_count": 14,
   "metadata": {},
   "outputs": [],
   "source": [
    "from sklearn.feature_extraction.text import CountVectorizer\n",
    "\n",
    "\n",
    "def stemmed_words(doc):\n",
    "    return (ps.stem(w) for w in analyzer(doc))\n"
   ]
  },
  {
   "cell_type": "code",
   "execution_count": 15,
   "metadata": {},
   "outputs": [],
   "source": [
    "analyzer = CountVectorizer().build_analyzer()\n",
    "ps = PorterStemmer()\n",
    "stem_analyzer = CountVectorizer(analyzer=stemmed_words)\n",
    "\n",
    "# Vectorize and Stem corpus\n",
    "X_train = stem_analyzer.fit_transform(train_data.iloc[:,1]).toarray()\n",
    "X_test = stem_analyzer.transform(test_data.iloc[:,1]).toarray()\n",
    "\n",
    "# Is it a spam or not\n",
    "y_train = pd.get_dummies(train_data.iloc[:,0]).iloc[:,1].values\n",
    "y_test = pd.get_dummies(test_data.iloc[:,0]).iloc[:,1].values"
   ]
  },
  {
   "cell_type": "code",
   "execution_count": 16,
   "metadata": {},
   "outputs": [
    {
     "name": "stdout",
     "output_type": "stream",
     "text": [
      "(4178, 6302)\n",
      "(1391, 6302)\n"
     ]
    }
   ],
   "source": [
    "print(X_train.shape)\n",
    "print(X_test.shape)"
   ]
  },
  {
   "cell_type": "code",
   "execution_count": 23,
   "metadata": {},
   "outputs": [
    {
     "name": "stdout",
     "output_type": "stream",
     "text": [
      "Best parameters :\n",
      "\n",
      "{'alpha': 5, 'fit_prior': True}\n",
      "\n",
      "Grid scores [Mean, Parameters] :\n",
      "\n",
      "{'alpha': 0.001, 'fit_prior': True}  :  0.934\n",
      "{'alpha': 0.001, 'fit_prior': False}  :  0.885\n",
      "{'alpha': 0.01, 'fit_prior': True}  :  0.928\n",
      "{'alpha': 0.01, 'fit_prior': False}  :  0.873\n",
      "{'alpha': 0.05, 'fit_prior': True}  :  0.912\n",
      "{'alpha': 0.05, 'fit_prior': False}  :  0.844\n",
      "{'alpha': 0.1, 'fit_prior': True}  :  0.899\n",
      "{'alpha': 0.1, 'fit_prior': False}  :  0.826\n",
      "{'alpha': 0.5, 'fit_prior': True}  :  0.904\n",
      "{'alpha': 0.5, 'fit_prior': False}  :  0.813\n",
      "{'alpha': 1, 'fit_prior': True}  :  0.93\n",
      "{'alpha': 1, 'fit_prior': False}  :  0.817\n",
      "{'alpha': 3, 'fit_prior': True}  :  0.969\n",
      "{'alpha': 3, 'fit_prior': False}  :  0.898\n",
      "{'alpha': 5, 'fit_prior': True}  :  0.982\n",
      "{'alpha': 5, 'fit_prior': False}  :  0.911\n",
      "\n",
      "Classification Report :\n",
      "\n",
      "              precision    recall  f1-score   support\n",
      "\n",
      "           0       0.97      1.00      0.99      1204\n",
      "           1       0.99      0.82      0.89       187\n",
      "\n",
      "    accuracy                           0.97      1391\n",
      "   macro avg       0.98      0.91      0.94      1391\n",
      "weighted avg       0.97      0.97      0.97      1391\n",
      "\n"
     ]
    }
   ],
   "source": [
    "tuned_parameters = [{'alpha': [0.001, 0.01, 0.05, 0.1, 0.5, 1, 3, 5], 'fit_prior': [True, False]}]\n",
    "\n",
    "\n",
    "clf = GridSearchCV(\n",
    "    MultinomialNB(), tuned_parameters, scoring='precision'\n",
    ")\n",
    "clf.fit(X_train, y_train)\n",
    "\n",
    "print(\"Best parameters :\\n\")\n",
    "print(clf.best_params_)\n",
    "\n",
    "print(\"\\nGrid scores [Mean, Parameters] :\\n\")\n",
    "\n",
    "for mean, params in zip(clf.cv_results_['mean_test_score'], clf.cv_results_['params']):\n",
    "    print(params, \" : \", round(mean,3))\n",
    "\n",
    "    \n",
    "y_true, y_pred = y_test, clf.predict(X_test)\n",
    "print(\"\\nClassification Report :\\n\")\n",
    "print(classification_report(y_true, y_pred))\n"
   ]
  },
  {
   "cell_type": "code",
   "execution_count": 24,
   "metadata": {},
   "outputs": [
    {
     "data": {
      "text/plain": [
       "MultinomialNB(alpha=5, class_prior=None, fit_prior=True)"
      ]
     },
     "execution_count": 24,
     "metadata": {},
     "output_type": "execute_result"
    }
   ],
   "source": [
    "model = MultinomialNB(alpha=5, fit_prior=True)\n",
    "model.fit(X_train, y_train)"
   ]
  },
  {
   "cell_type": "code",
   "execution_count": 25,
   "metadata": {},
   "outputs": [
    {
     "name": "stdout",
     "output_type": "stream",
     "text": [
      "['how are you doing today?', 'ham']\n"
     ]
    }
   ],
   "source": [
    "# function to predict messages based on model\n",
    "# (should return list containing prediction and label, ex. [0.008318834938108921, 'ham'])\n",
    "def predict_message(pred_text):\n",
    "    \n",
    "    stemmed_text = stem_analyzer.transform([pred_text]).toarray()\n",
    "    \n",
    "    result = \"ham\"\n",
    "    \n",
    "    if model.predict(stemmed_text) == 1:\n",
    "        result = \"spam\"\n",
    "    \n",
    "    prediction = [pred_text, result]\n",
    "\n",
    "\n",
    "    return (prediction)\n",
    "\n",
    "pred_text = \"how are you doing today?\"\n",
    "\n",
    "prediction = predict_message(pred_text)\n",
    "print(prediction)"
   ]
  },
  {
   "cell_type": "code",
   "execution_count": 26,
   "metadata": {},
   "outputs": [
    {
     "name": "stdout",
     "output_type": "stream",
     "text": [
      "You passed the challenge. Great job!\n"
     ]
    }
   ],
   "source": [
    "# Run this cell to test your function and model. Do not modify contents.\n",
    "def test_predictions():\n",
    "  test_messages = [\"how are you doing today\",\n",
    "                   \"sale today! to stop texts call 98912460324\",\n",
    "                   \"i dont want to go. can we try it a different day? available sat\",\n",
    "                   \"our new mobile video service is live. just install on your phone to start watching.\",\n",
    "                   \"you have won £1000 cash! call to claim your prize.\",\n",
    "                   \"i'll bring it tomorrow. don't forget the milk.\",\n",
    "                   \"wow, is your arm alright. that happened to me one time too\"\n",
    "                  ]\n",
    "\n",
    "  test_answers = [\"ham\", \"spam\", \"ham\", \"spam\", \"spam\", \"ham\", \"ham\"]\n",
    "  passed = True\n",
    "\n",
    "  for msg, ans in zip(test_messages, test_answers):\n",
    "    prediction = predict_message(msg)\n",
    "    if prediction[1] != ans:\n",
    "      passed = False\n",
    "\n",
    "  if passed:\n",
    "    print(\"You passed the challenge. Great job!\")\n",
    "  else:\n",
    "    print(\"You haven't passed yet. Keep trying.\")\n",
    "\n",
    "test_predictions()\n"
   ]
  },
  {
   "cell_type": "code",
   "execution_count": null,
   "metadata": {},
   "outputs": [],
   "source": []
  }
 ],
 "metadata": {
  "kernelspec": {
   "display_name": "Python 3",
   "language": "python",
   "name": "python3"
  },
  "language_info": {
   "codemirror_mode": {
    "name": "ipython",
    "version": 3
   },
   "file_extension": ".py",
   "mimetype": "text/x-python",
   "name": "python",
   "nbconvert_exporter": "python",
   "pygments_lexer": "ipython3",
   "version": "3.7.3"
  }
 },
 "nbformat": 4,
 "nbformat_minor": 4
}
