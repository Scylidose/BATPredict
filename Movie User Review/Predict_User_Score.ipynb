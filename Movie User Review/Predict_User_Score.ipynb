{
 "cells": [
  {
   "cell_type": "markdown",
   "metadata": {},
   "source": [
    "## Importing libraries"
   ]
  },
  {
   "cell_type": "code",
   "execution_count": null,
   "metadata": {},
   "outputs": [],
   "source": [
    "import numpy as np\n",
    "import pandas as pd \n",
    "import matplotlib.pyplot as plt\n",
    "\n",
    "from sklearn.model_selection import train_test_split"
   ]
  },
  {
   "cell_type": "markdown",
   "metadata": {},
   "source": [
    "## Retrieve all data"
   ]
  },
  {
   "cell_type": "code",
   "execution_count": 21,
   "metadata": {},
   "outputs": [],
   "source": [
    "links = pd.read_csv(\"data/ml-latest-small/links.csv\")\n",
    "movies = pd.read_csv(\"data/ml-latest-small/movies.csv\")\n",
    "ratings = pd.read_csv(\"data/ml-latest-small/ratings.csv\")\n",
    "tags = pd.read_csv(\"data/ml-latest-small/tags.csv\")\n"
   ]
  },
  {
   "cell_type": "code",
   "execution_count": 25,
   "metadata": {},
   "outputs": [
    {
     "name": "stdout",
     "output_type": "stream",
     "text": [
      "LINKS COLUMNS\n",
      "Index(['movieId', 'imdbId', 'tmdbId'], dtype='object') \n",
      "\n",
      "-------------\n",
      "\n",
      "MOVIES COLUMNS\n",
      "Index(['movieId', 'title', 'genres'], dtype='object') \n",
      "\n",
      "-------------\n",
      "\n",
      "RATINGS COLUMNS\n",
      "Index(['userId', 'movieId', 'rating', 'timestamp'], dtype='object') \n",
      "\n",
      "-------------\n",
      "\n",
      "TAGS COLUMNS\n",
      "Index(['userId', 'movieId', 'tag', 'timestamp'], dtype='object')\n"
     ]
    }
   ],
   "source": [
    "print(\"LINKS COLUMNS\")\n",
    "print(links.columns, \"\\n\")\n",
    "print(\"-------------\\n\")\n",
    "print(\"MOVIES COLUMNS\")\n",
    "print(movies.columns, \"\\n\")\n",
    "print(\"-------------\\n\")\n",
    "print(\"RATINGS COLUMNS\")\n",
    "print(ratings.columns, \"\\n\")\n",
    "print(\"-------------\\n\")\n",
    "print(\"TAGS COLUMNS\")\n",
    "print(tags.columns)\n"
   ]
  },
  {
   "cell_type": "markdown",
   "metadata": {},
   "source": [
    "## Merging and Keeping useful data"
   ]
  },
  {
   "cell_type": "code",
   "execution_count": 69,
   "metadata": {},
   "outputs": [
    {
     "name": "stdout",
     "output_type": "stream",
     "text": [
      "              title                                       genres  rating  \\\n",
      "0  Toy Story (1995)  Adventure|Animation|Children|Comedy|Fantasy     4.0   \n",
      "1  Toy Story (1995)  Adventure|Animation|Children|Comedy|Fantasy     4.0   \n",
      "2  Toy Story (1995)  Adventure|Animation|Children|Comedy|Fantasy     4.5   \n",
      "3  Toy Story (1995)  Adventure|Animation|Children|Comedy|Fantasy     2.5   \n",
      "4  Toy Story (1995)  Adventure|Animation|Children|Comedy|Fantasy     4.5   \n",
      "\n",
      "      timestamp  tag  \n",
      "0  9.649827e+08  NaN  \n",
      "1  8.474350e+08  NaN  \n",
      "2  1.106636e+09  NaN  \n",
      "3  1.510578e+09  NaN  \n",
      "4  1.305696e+09  NaN  \n"
     ]
    }
   ],
   "source": [
    "movie_ratings = pd.merge(movies, ratings,\n",
    "                        how=\"left\", on=[\"movieId\"])\n",
    "\n",
    "movie_ratings = movie_ratings.drop(columns='userId')\n",
    "\n",
    "movie_data = pd.merge(movie_ratings, tags,\n",
    "                        how=\"left\", on=[\"movieId\", \"timestamp\"])\n",
    "\n",
    "movie_data = movie_data.drop(['userId', 'movieId'], axis=1)\n",
    "\n",
    "print(movie_data.iloc[:5,])"
   ]
  },
  {
   "cell_type": "markdown",
   "metadata": {},
   "source": [
    "## Train and Test splitting "
   ]
  },
  {
   "cell_type": "code",
   "execution_count": 67,
   "metadata": {},
   "outputs": [],
   "source": [
    "X = movie_data.iloc[:, [0,1,3,4]]\n",
    "y = movie_data.iloc[:, 2]\n",
    "\n",
    "X_train, X_test, y_train, y_test = train_test_split(X, y, test_size=0.2)"
   ]
  },
  {
   "cell_type": "markdown",
   "metadata": {},
   "source": [
    "## TBD"
   ]
  },
  {
   "cell_type": "code",
   "execution_count": null,
   "metadata": {},
   "outputs": [],
   "source": []
  }
 ],
 "metadata": {
  "kernelspec": {
   "display_name": "Python 3",
   "language": "python",
   "name": "python3"
  },
  "language_info": {
   "codemirror_mode": {
    "name": "ipython",
    "version": 3
   },
   "file_extension": ".py",
   "mimetype": "text/x-python",
   "name": "python",
   "nbconvert_exporter": "python",
   "pygments_lexer": "ipython3",
   "version": "3.7.3"
  }
 },
 "nbformat": 4,
 "nbformat_minor": 2
}
