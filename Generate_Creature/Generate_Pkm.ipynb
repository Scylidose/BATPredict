{
 "cells": [
  {
   "cell_type": "code",
   "execution_count": null,
   "metadata": {
    "_cell_guid": "b1076dfc-b9ad-4769-8c92-a6c4dae69d19",
    "_uuid": "8f2839f25d086af736a60e9eeb907d3b93b6e0e5"
   },
   "outputs": [],
   "source": [
    "from torch import nn\n",
    "import torch\n",
    "\n",
    "import numpy as np\n",
    "import torchvision\n",
    "from torchvision import transforms\n",
    "from torch import cuda\n",
    "from PIL import Image\n",
    "from zipfile import ZipFile\n",
    "import os\n",
    "import cv2\n",
    "from sklearn.utils import shuffle\n",
    "import matplotlib.pyplot as plt\n",
    "import random\n"
   ]
  },
  {
   "cell_type": "code",
   "execution_count": null,
   "metadata": {
    "_cell_guid": "79c7e3d0-c299-4dcb-8224-4455121ee9b0",
    "_uuid": "d629ff2d2480ee46fbb7e2d37f6b5fab8052498a"
   },
   "outputs": [],
   "source": [
    "def get_pkm_img():\n",
    "    \n",
    "    Images = []\n",
    "    \n",
    "    directory = '/kaggle/input/pokemon-images-and-types/images/images/'\n",
    "    \n",
    "    for image_file in os.listdir(directory):\n",
    "        img = cv2.imread(directory+r'/'+image_file)\n",
    "        img = cv2.resize(img,(256,256))\n",
    "        img = cv2.cvtColor(img, cv2.COLOR_BGR2RGB)\n",
    "        Images.append(img)\n",
    "        \n",
    "    return np.array(shuffle(Images))"
   ]
  },
  {
   "cell_type": "code",
   "execution_count": null,
   "metadata": {},
   "outputs": [],
   "source": [
    "# Lets plot some of training images\n",
    "f,ax = plt.subplots(5,5) \n",
    "f.subplots_adjust(0,0,3,3) # adjust the spaces between images\n",
    "\n",
    "img = get_pkm_img()\n",
    "\n",
    "for i in range(0,5,1):\n",
    "    for j in range(0,5,1):\n",
    "        ax[i,j].imshow(img[random.randint(0, len(img))])\n",
    "        ax[i,j].axis('off')"
   ]
  },
  {
   "cell_type": "code",
   "execution_count": null,
   "metadata": {},
   "outputs": [],
   "source": [
    "def split_img(img):\n",
    "    train = []\n",
    "    valid = []\n",
    "    test = []\n",
    "\n",
    "    train_sliced_nb = round(img.shape[0] * 0.6)\n",
    "    valid_sliced_nb = round(train_sliced_nb + img.shape[0] * 0.2)\n",
    "\n",
    "    X_train = img[0:train_sliced_nb]\n",
    "    X_valid = img[train_sliced_nb:valid_sliced_nb]\n",
    "    X_test = img[valid_sliced_nb:]\n",
    "\n",
    "    return (X_train, X_valid, X_test)"
   ]
  },
  {
   "cell_type": "code",
   "execution_count": null,
   "metadata": {},
   "outputs": [],
   "source": []
  }
 ],
 "metadata": {
  "kernelspec": {
   "display_name": "Python 3",
   "language": "python",
   "name": "python3"
  },
  "language_info": {
   "codemirror_mode": {
    "name": "ipython",
    "version": 3
   },
   "file_extension": ".py",
   "mimetype": "text/x-python",
   "name": "python",
   "nbconvert_exporter": "python",
   "pygments_lexer": "ipython3",
   "version": "3.7.3"
  }
 },
 "nbformat": 4,
 "nbformat_minor": 4
}
