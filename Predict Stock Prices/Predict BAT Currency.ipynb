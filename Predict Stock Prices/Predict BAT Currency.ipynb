{
 "cells": [
  {
   "cell_type": "code",
   "execution_count": 1,
   "metadata": {
    "_cell_guid": "b1076dfc-b9ad-4769-8c92-a6c4dae69d19",
    "_uuid": "8f2839f25d086af736a60e9eeb907d3b93b6e0e5"
   },
   "outputs": [],
   "source": [
    "import numpy as np\n",
    "import pandas as pd\n",
    "\n",
    "import matplotlib.pyplot as plt\n",
    "from sklearn import preprocessing\n",
    "from keras.layers.core import Dense, Activation, Dropout\n",
    "from keras.preprocessing import sequence\n",
    "from keras.models import Sequential\n",
    "from keras.layers import Dense, Embedding\n",
    "from keras.layers import LSTM\n",
    "from sklearn.metrics import r2_score\n",
    "from sklearn.metrics import mean_squared_error\n"
   ]
  },
  {
   "cell_type": "code",
   "execution_count": 2,
   "metadata": {
    "_cell_guid": "79c7e3d0-c299-4dcb-8224-4455121ee9b0",
    "_uuid": "d629ff2d2480ee46fbb7e2d37f6b5fab8052498a"
   },
   "outputs": [
    {
     "name": "stdout",
     "output_type": "stream",
     "text": [
      "(1157, 7)\n"
     ]
    }
   ],
   "source": [
    "data = pd.read_csv(\"../input/batcad/BAT-CAD.csv\").dropna().reset_index(drop=True)\n",
    "data = data.drop(['Dividends', 'Stock Splits'], axis=1, errors='ignore')\n",
    "\n",
    "print(data.shape)"
   ]
  },
  {
   "cell_type": "code",
   "execution_count": 3,
   "metadata": {},
   "outputs": [
    {
     "name": "stdout",
     "output_type": "stream",
     "text": [
      "            Date      Open      High       Low     Close  Adj Close     Volume\n",
      "0     2017-06-01  0.226909  0.236655  0.197074  0.231172   0.231172    5911817\n",
      "1     2017-06-02  0.231375  0.231291  0.207033  0.211127   0.211127    4209596\n",
      "2     2017-06-03  0.211070  0.249598  0.208587  0.223900   0.223900    6388732\n",
      "3     2017-06-04  0.223807  0.475217  0.222293  0.385425   0.385425   37225189\n",
      "4     2017-06-05  0.384724  0.445181  0.363572  0.393013   0.393013   19265746\n",
      "...          ...       ...       ...       ...       ...        ...        ...\n",
      "1152  2020-07-27  0.340725  0.343681  0.310723  0.330144   0.330144  203058147\n",
      "1153  2020-07-28  0.329991  0.340953  0.325217  0.336396   0.336396  169884317\n",
      "1154  2020-07-29  0.336272  0.341429  0.328961  0.330046   0.330046  185519642\n",
      "1155  2020-07-30  0.330116  0.337525  0.329529  0.331649   0.331649  204093541\n",
      "1156  2020-07-31  0.332148  0.337688  0.330745  0.336589   0.336589  195371776\n",
      "\n",
      "[1157 rows x 7 columns]\n"
     ]
    }
   ],
   "source": [
    "print(data)"
   ]
  },
  {
   "cell_type": "code",
   "execution_count": 4,
   "metadata": {},
   "outputs": [
    {
     "name": "stdout",
     "output_type": "stream",
     "text": [
      "(694, 1, 1)\n",
      "(231, 1, 1)\n",
      "(231, 1, 1)\n"
     ]
    }
   ],
   "source": [
    "def transf_list(lst):\n",
    "    return [[el] for el in lst]\n",
    "\n",
    "X = transf_list(data.iloc[:, 1])\n",
    "y = data.iloc[:, [5]].values.tolist()\n",
    "\n",
    "min_max_scaler = preprocessing.MinMaxScaler()\n",
    "x_scaled = min_max_scaler.fit_transform(X)\n",
    "y_scaled = min_max_scaler.fit_transform(y)\n",
    "\n",
    "\n",
    "train_sliced_day = round(len(X) * 0.6)\n",
    "valid_sliced_day = round(train_sliced_day + len(X) * 0.2)\n",
    "test_sliced_day = round(valid_sliced_day + len(X) * 0.2)\n",
    "\n",
    "X_train = x_scaled[0:train_sliced_day]\n",
    "X_valid = x_scaled[train_sliced_day:valid_sliced_day]\n",
    "X_test = x_scaled[valid_sliced_day:-1]\n",
    "\n",
    "y_train = y_scaled[0:train_sliced_day]\n",
    "y_valid = y_scaled[train_sliced_day:valid_sliced_day]\n",
    "y_test = y_scaled[valid_sliced_day:-1]\n",
    "\n",
    "X_train = X_train.reshape(X_train.shape[0],  X_train.shape[1], 1)\n",
    "X_valid = X_valid.reshape(X_valid.shape[0],  X_valid.shape[1], 1)\n",
    "X_test = X_test.reshape(X_test.shape[0], X_test.shape[1], 1)\n",
    "\n",
    "print(X_train.shape)\n",
    "print(X_valid.shape)\n",
    "print(X_test.shape)"
   ]
  },
  {
   "cell_type": "code",
   "execution_count": 5,
   "metadata": {},
   "outputs": [],
   "source": [
    "def model(X_train, y_train, X_test, y_test,\n",
    "          unit= 50, dropout_prob=0.2, opt='adam', epochs=10, batch_size=32):\n",
    "\n",
    "    model = Sequential()\n",
    "\n",
    "    model.add(LSTM(units = unit, return_sequences = True, input_shape = (X_train.shape[1], 1)))\n",
    "    model.add(Dropout(dropout_prob))\n",
    "    model.add(LSTM(units = unit, return_sequences = True))\n",
    "    model.add(Dropout(dropout_prob))\n",
    "    model.add(LSTM(units = unit, return_sequences = True))\n",
    "    model.add(Dropout(dropout_prob))\n",
    "    model.add(LSTM(units = unit))\n",
    "    model.add(Dropout(dropout_prob))\n",
    "    model.add(Dense(units = 1))\n",
    "\n",
    "    model.compile(optimizer = opt, loss = 'mean_squared_error')\n",
    "\n",
    "    model.fit(X_train, y_train, epochs = epochs, batch_size = batch_size, verbose=0)\n",
    "\n",
    "    y_pred = model.predict(X_test)\n",
    "\n",
    "    accuracy = round(r2_score(y_test,y_pred)*100, 3)\n",
    "    mse = mean_squared_error(y_test, y_pred)\n",
    "    \n",
    "    return accuracy, mse, y_pred"
   ]
  },
  {
   "cell_type": "code",
   "execution_count": 6,
   "metadata": {},
   "outputs": [
    {
     "name": "stdout",
     "output_type": "stream",
     "text": [
      "89.656 0.00029949344333697777\n"
     ]
    }
   ],
   "source": [
    "(r2, mse, y_pred) = model(X_train, y_train, X_test, y_test)\n",
    "print(r2, mse)"
   ]
  },
  {
   "cell_type": "code",
   "execution_count": 7,
   "metadata": {},
   "outputs": [],
   "source": [
    "tuning_units = [10, 50, 100, 150, 200]\n",
    "tuning_dropout = [0.1, 0.3, 0.5, 0.7, 0.9]\n"
   ]
  },
  {
   "cell_type": "code",
   "execution_count": 8,
   "metadata": {},
   "outputs": [],
   "source": [
    "tuning_param = {'Units': [], 'Dropout': [], 'mse': [], 'r2_score': []}\n",
    "\n",
    "for i in range(len(tuning_units)):\n",
    "    for j in range(len(tuning_dropout)):\n",
    "        (r2, mse, _) = model(X_train, y_train, X_valid, y_valid, unit= tuning_units[i], dropout_prob=tuning_dropout[j])\n",
    "        tuning_param['Units'].append(tuning_units[i])\n",
    "        tuning_param['Dropout'].append(tuning_dropout[j])\n",
    "        \n",
    "        tuning_param['mse'].append(mse)\n",
    "        tuning_param['r2_score'].append(r2)\n"
   ]
  },
  {
   "cell_type": "code",
   "execution_count": 9,
   "metadata": {},
   "outputs": [],
   "source": [
    "tuning_param_df = pd.DataFrame(tuning_param)"
   ]
  },
  {
   "cell_type": "code",
   "execution_count": 10,
   "metadata": {},
   "outputs": [
    {
     "name": "stdout",
     "output_type": "stream",
     "text": [
      "Best Mean Square Error\n",
      "Row  16\n",
      "\n",
      "Best Accuracy\n",
      "Row  16\n",
      "-----------\n",
      "    Units  Dropout       mse  r2_score\n",
      "16    150      0.3  0.000276    96.652\n",
      "16    150      0.3  0.000276    96.652\n"
     ]
    }
   ],
   "source": [
    "print(\"Best Mean Square Error\")\n",
    "best_mse = tuning_param_df['mse'].argmin()\n",
    "print(\"Row \", best_mse)\n",
    "\n",
    "print(\"\\nBest Accuracy\")\n",
    "best_acc = tuning_param_df['r2_score'].argmax()\n",
    "print(\"Row \", best_acc)\n",
    "\n",
    "print(\"-----------\")\n",
    "\n",
    "print(tuning_param_df.iloc[[best_mse, best_acc], :])\n"
   ]
  },
  {
   "cell_type": "code",
   "execution_count": 11,
   "metadata": {},
   "outputs": [
    {
     "data": {
      "text/plain": [
       "Units       150.000000\n",
       "Dropout       0.300000\n",
       "mse           0.000276\n",
       "r2_score     96.652000\n",
       "Name: 16, dtype: float64"
      ]
     },
     "execution_count": 11,
     "metadata": {},
     "output_type": "execute_result"
    }
   ],
   "source": [
    "tuning_param_df.iloc[16, :]"
   ]
  },
  {
   "cell_type": "markdown",
   "metadata": {},
   "source": [
    "## Best Param : 150 Units, 0.3 Dropout"
   ]
  },
  {
   "cell_type": "code",
   "execution_count": 12,
   "metadata": {},
   "outputs": [],
   "source": [
    "tuning_epochs = [1, 5, 10, 15, 20]\n",
    "tuning_batch_size = [1, 16, 32, 64, 128]\n"
   ]
  },
  {
   "cell_type": "code",
   "execution_count": 13,
   "metadata": {},
   "outputs": [
    {
     "name": "stdout",
     "output_type": "stream",
     "text": [
      "0\n",
      "0\n",
      "0\n",
      "0\n",
      "0\n",
      "0\n",
      "1\n",
      "2\n",
      "3\n",
      "4\n",
      "0\n",
      "2\n",
      "4\n",
      "6\n",
      "8\n",
      "0\n",
      "3\n",
      "6\n",
      "9\n",
      "12\n",
      "0\n",
      "4\n",
      "8\n",
      "12\n",
      "16\n"
     ]
    }
   ],
   "source": [
    "tuning_param2 = {'Epochs': [], 'Batch_Size': [], 'mse': [], 'r2_score': []}\n",
    "\n",
    "for i in range(len(tuning_epochs)):\n",
    "    for j in range(len(tuning_batch_size)):\n",
    "        (r2, mse, _) = model(X_train, y_train, X_valid, y_valid, unit=150, dropout_prob=0.3, epochs=tuning_epochs[i], batch_size=tuning_batch_size[j] )\n",
    "        tuning_param2['Epochs'].append(tuning_epochs[i])\n",
    "        tuning_param2['Batch_Size'].append(tuning_batch_size[j])\n",
    "\n",
    "        tuning_param2['mse'].append(mse)\n",
    "        tuning_param2['r2_score'].append(r2)\n",
    "\n",
    "        print(i*j)"
   ]
  },
  {
   "cell_type": "code",
   "execution_count": 14,
   "metadata": {},
   "outputs": [],
   "source": [
    "tuning_param_df2 = pd.DataFrame(tuning_param2)"
   ]
  },
  {
   "cell_type": "code",
   "execution_count": 15,
   "metadata": {},
   "outputs": [
    {
     "name": "stdout",
     "output_type": "stream",
     "text": [
      "Best Mean Square Error\n",
      "Row  24\n",
      "\n",
      "Best Accuracy\n",
      "Row  24\n",
      "-----------\n"
     ]
    },
    {
     "data": {
      "text/html": [
       "<div>\n",
       "<style scoped>\n",
       "    .dataframe tbody tr th:only-of-type {\n",
       "        vertical-align: middle;\n",
       "    }\n",
       "\n",
       "    .dataframe tbody tr th {\n",
       "        vertical-align: top;\n",
       "    }\n",
       "\n",
       "    .dataframe thead th {\n",
       "        text-align: right;\n",
       "    }\n",
       "</style>\n",
       "<table border=\"1\" class=\"dataframe\">\n",
       "  <thead>\n",
       "    <tr style=\"text-align: right;\">\n",
       "      <th></th>\n",
       "      <th>Epochs</th>\n",
       "      <th>Batch_Size</th>\n",
       "      <th>mse</th>\n",
       "      <th>r2_score</th>\n",
       "    </tr>\n",
       "  </thead>\n",
       "  <tbody>\n",
       "    <tr>\n",
       "      <th>24</th>\n",
       "      <td>20</td>\n",
       "      <td>128</td>\n",
       "      <td>0.000281</td>\n",
       "      <td>96.589</td>\n",
       "    </tr>\n",
       "    <tr>\n",
       "      <th>24</th>\n",
       "      <td>20</td>\n",
       "      <td>128</td>\n",
       "      <td>0.000281</td>\n",
       "      <td>96.589</td>\n",
       "    </tr>\n",
       "  </tbody>\n",
       "</table>\n",
       "</div>"
      ],
      "text/plain": [
       "    Epochs  Batch_Size       mse  r2_score\n",
       "24      20         128  0.000281    96.589\n",
       "24      20         128  0.000281    96.589"
      ]
     },
     "execution_count": 15,
     "metadata": {},
     "output_type": "execute_result"
    }
   ],
   "source": [
    "print(\"Best Mean Square Error\")\n",
    "best_mse2 = tuning_param_df2['mse'].argmin()\n",
    "print(\"Row \", best_mse2)\n",
    "\n",
    "print(\"\\nBest Accuracy\")\n",
    "best_acc2 = tuning_param_df2['r2_score'].argmax()\n",
    "print(\"Row \", best_acc2)\n",
    "\n",
    "print(\"-----------\")\n",
    "\n",
    "tuning_param_df2.iloc[[best_mse2, best_acc2], :]\n"
   ]
  },
  {
   "cell_type": "code",
   "execution_count": 17,
   "metadata": {},
   "outputs": [
    {
     "data": {
      "text/plain": [
       "Epochs         20.000000\n",
       "Batch_Size    128.000000\n",
       "mse             0.000281\n",
       "r2_score       96.589000\n",
       "Name: 24, dtype: float64"
      ]
     },
     "execution_count": 17,
     "metadata": {},
     "output_type": "execute_result"
    }
   ],
   "source": [
    "tuning_param_df2.iloc[24, :]\n"
   ]
  },
  {
   "cell_type": "markdown",
   "metadata": {},
   "source": [
    "## Best param : 20 Epochs, 128 Batch Size"
   ]
  },
  {
   "cell_type": "code",
   "execution_count": 18,
   "metadata": {},
   "outputs": [],
   "source": [
    "tuning_opt = ['adam', 'sgd', 'rmsprop', 'adagrad', 'adamax']"
   ]
  },
  {
   "cell_type": "code",
   "execution_count": 19,
   "metadata": {},
   "outputs": [
    {
     "name": "stdout",
     "output_type": "stream",
     "text": [
      "0\n",
      "1\n",
      "2\n",
      "3\n",
      "4\n"
     ]
    }
   ],
   "source": [
    "tuning_param3 = {'Optimizer': [], 'mse': [], 'r2_score': []}\n",
    "\n",
    "for i in range(len(tuning_opt)):\n",
    "    (r2, mse, _) = model(X_train, y_train, X_valid, y_valid, unit=150, dropout_prob=0.3, opt=tuning_opt[i], epochs=20, batch_size=128)\n",
    "    tuning_param3['Optimizer'].append(tuning_opt[i])\n",
    "\n",
    "    tuning_param3['mse'].append(mse)\n",
    "    tuning_param3['r2_score'].append(r2)\n",
    "    print(i)"
   ]
  },
  {
   "cell_type": "code",
   "execution_count": 20,
   "metadata": {},
   "outputs": [],
   "source": [
    "tuning_param_df3 = pd.DataFrame(tuning_param3)"
   ]
  },
  {
   "cell_type": "code",
   "execution_count": 21,
   "metadata": {},
   "outputs": [
    {
     "name": "stdout",
     "output_type": "stream",
     "text": [
      "Best Mean Square Error\n",
      "Row  0\n",
      "\n",
      "Best Accuracy\n",
      "Row  0\n",
      "-----------\n"
     ]
    },
    {
     "data": {
      "text/html": [
       "<div>\n",
       "<style scoped>\n",
       "    .dataframe tbody tr th:only-of-type {\n",
       "        vertical-align: middle;\n",
       "    }\n",
       "\n",
       "    .dataframe tbody tr th {\n",
       "        vertical-align: top;\n",
       "    }\n",
       "\n",
       "    .dataframe thead th {\n",
       "        text-align: right;\n",
       "    }\n",
       "</style>\n",
       "<table border=\"1\" class=\"dataframe\">\n",
       "  <thead>\n",
       "    <tr style=\"text-align: right;\">\n",
       "      <th></th>\n",
       "      <th>Optimizer</th>\n",
       "      <th>mse</th>\n",
       "      <th>r2_score</th>\n",
       "    </tr>\n",
       "  </thead>\n",
       "  <tbody>\n",
       "    <tr>\n",
       "      <th>0</th>\n",
       "      <td>adam</td>\n",
       "      <td>0.000324</td>\n",
       "      <td>96.077</td>\n",
       "    </tr>\n",
       "    <tr>\n",
       "      <th>0</th>\n",
       "      <td>adam</td>\n",
       "      <td>0.000324</td>\n",
       "      <td>96.077</td>\n",
       "    </tr>\n",
       "  </tbody>\n",
       "</table>\n",
       "</div>"
      ],
      "text/plain": [
       "  Optimizer       mse  r2_score\n",
       "0      adam  0.000324    96.077\n",
       "0      adam  0.000324    96.077"
      ]
     },
     "execution_count": 21,
     "metadata": {},
     "output_type": "execute_result"
    }
   ],
   "source": [
    "print(\"Best Mean Square Error\")\n",
    "best_mse3 = tuning_param_df3['mse'].argmin()\n",
    "print(\"Row \", best_mse3)\n",
    "tuning_param_df3.iloc[best_mse3, :]\n",
    "\n",
    "print(\"\\nBest Accuracy\")\n",
    "best_acc3 = tuning_param_df3['r2_score'].argmax()\n",
    "print(\"Row \", best_acc3)\n",
    "\n",
    "print(\"-----------\")\n",
    "\n",
    "tuning_param_df3.iloc[[best_mse3, best_acc3], :]"
   ]
  },
  {
   "cell_type": "markdown",
   "metadata": {},
   "source": [
    "## Best Param : Adam Optimizer"
   ]
  },
  {
   "cell_type": "code",
   "execution_count": null,
   "metadata": {},
   "outputs": [],
   "source": [
    "(_, _, y_pred) = model(X_train, y_train, X_test, y_test, unit=150, dropout_prob=0.3, opt='adam', epochs=20, batch_size=128)"
   ]
  },
  {
   "cell_type": "code",
   "execution_count": null,
   "metadata": {},
   "outputs": [],
   "source": [
    "unscaled_y_pred = min_max_scaler.inverse_transform(y_pred)\n",
    "unscaled_y_test = min_max_scaler.inverse_transform(y_test)"
   ]
  },
  {
   "cell_type": "code",
   "execution_count": null,
   "metadata": {},
   "outputs": [],
   "source": [
    "round(r2_score(unscaled_y_test,unscaled_y_pred)*100, 3)"
   ]
  },
  {
   "cell_type": "code",
   "execution_count": null,
   "metadata": {},
   "outputs": [],
   "source": [
    "plt.gcf().set_size_inches(20, 10, forward=True)\n",
    "\n",
    "real_close = plt.plot(unscaled_y_test[:,0], label='Real Close Value')\n",
    "pred_close = plt.plot(unscaled_y_pred[:,0], label='Predicted Close Value')\n",
    "\n",
    "plt.legend(['Real Close Value', 'Predicted Close Value'])\n",
    "\n",
    "plt.show()"
   ]
  },
  {
   "cell_type": "code",
   "execution_count": null,
   "metadata": {},
   "outputs": [],
   "source": []
  }
 ],
 "metadata": {
  "kernelspec": {
   "display_name": "Python 3",
   "language": "python",
   "name": "python3"
  },
  "language_info": {
   "codemirror_mode": {
    "name": "ipython",
    "version": 3
   },
   "file_extension": ".py",
   "mimetype": "text/x-python",
   "name": "python",
   "nbconvert_exporter": "python",
   "pygments_lexer": "ipython3",
   "version": "3.7.3"
  }
 },
 "nbformat": 4,
 "nbformat_minor": 4
}
