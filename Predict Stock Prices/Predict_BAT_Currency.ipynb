{
 "cells": [
  {
   "cell_type": "code",
   "execution_count": 1,
   "metadata": {},
   "outputs": [],
   "source": [
    "import numpy as np\n",
    "import pandas as pd \n",
    "import matplotlib.pyplot as plt\n",
    "\n",
    "from sklearn.model_selection import train_test_split"
   ]
  },
  {
   "cell_type": "code",
   "execution_count": 21,
   "metadata": {},
   "outputs": [
    {
     "name": "stdout",
     "output_type": "stream",
     "text": [
      "(1146, 6)\n"
     ]
    }
   ],
   "source": [
    "data = pd.read_csv(\"data/BAT-CAD.csv\").dropna().reset_index(drop=True)\n",
    "data = data.drop('Close', axis=1)\n",
    "\n",
    "print(data.shape)"
   ]
  },
  {
   "cell_type": "code",
   "execution_count": 22,
   "metadata": {},
   "outputs": [
    {
     "name": "stdout",
     "output_type": "stream",
     "text": [
      "            Date      Open      High       Low  Adj Close       Volume\n",
      "0     2017-06-01  0.226909  0.236655  0.197074   0.231172    5911817.0\n",
      "1     2017-06-02  0.231375  0.231291  0.207033   0.211127    4209596.0\n",
      "2     2017-06-03  0.211070  0.249598  0.208587   0.223900    6388732.0\n",
      "3     2017-06-04  0.223807  0.475217  0.222293   0.385425   37225189.0\n",
      "4     2017-06-05  0.384724  0.445181  0.363572   0.393013   19265746.0\n",
      "...          ...       ...       ...       ...        ...          ...\n",
      "1141  2020-07-16  0.350472  0.361130  0.325878   0.351866  230111178.0\n",
      "1142  2020-07-17  0.352281  0.375269  0.352281   0.360783  206208024.0\n",
      "1143  2020-07-18  0.360568  0.366884  0.350925   0.364643  165737347.0\n",
      "1144  2020-07-19  0.365331  0.378057  0.364201   0.370791  160858153.0\n",
      "1145  2020-07-21  0.348669  0.356156  0.346399   0.350777  163472880.0\n",
      "\n",
      "[1146 rows x 6 columns]\n"
     ]
    }
   ],
   "source": [
    "print(data)"
   ]
  },
  {
   "cell_type": "code",
   "execution_count": null,
   "metadata": {},
   "outputs": [],
   "source": []
  }
 ],
 "metadata": {
  "kernelspec": {
   "display_name": "Python 3",
   "language": "python",
   "name": "python3"
  },
  "language_info": {
   "codemirror_mode": {
    "name": "ipython",
    "version": 3
   },
   "file_extension": ".py",
   "mimetype": "text/x-python",
   "name": "python",
   "nbconvert_exporter": "python",
   "pygments_lexer": "ipython3",
   "version": "3.7.3"
  }
 },
 "nbformat": 4,
 "nbformat_minor": 2
}
